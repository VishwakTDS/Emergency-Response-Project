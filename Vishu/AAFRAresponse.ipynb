{
  "cells": [
    {
      "cell_type": "code",
      "execution_count": null,
      "metadata": {
        "id": "aUdwpVkc-em-"
      },
      "outputs": [],
      "source": [
        "!pip install --upgrade openai requests\n",
        "\n",
        "from openai import OpenAI\n",
        "import json\n",
        "import requests\n",
        "\n",
        "# set up NVIDIA NIM OpenAI-compatible client\n",
        "client = OpenAI(\n",
        "    base_url=\"https://integrate.api.nvidia.com/v1\",\n",
        "    api_key=\"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\"\n",
        ")\n",
        "\n",
        "# input threat scenario\n",
        "threat_input = \"\"\"\n",
        "There is a large looking creature larger than skyscrapers walking toward New York City.\n",
        "\"\"\"\n",
        "\n",
        "# system prompt for Nemotron model\n",
        "system_msg = \"\"\"You are an intelligent emergency response agent trained to handle all types of threat scenarios — including natural disasters, man-made events, public safety issues, biological incidents, and unidentified anomalies — and generate structured emergency response plans.\n",
        "\n",
        "Return ONLY a valid JSON object with the following fields:\n",
        "\n",
        "- responders: A list of real-world emergency response groups or units that would logically be called to address this threat. Examples include: Fire, EMS, Police, Animal Control, Military, Public Works, Local Security, Event Staff, Utility Crews, or other official response units. Only include responders that exist in real-world emergency management or municipal/governmental services.\n",
        "\n",
        "- clarification: A short explanation for why each selected responder was chosen. One line per responder is enough.\n",
        "\n",
        "- message: A short summary of the threat for first responders (1–2 sentences max).\n",
        "\n",
        "- priority: One of \"High\", \"Medium\", or \"Low\" depending on urgency, threat level, and public risk.\n",
        "\n",
        "- actions: A list of specific, realistic, recommended response actions based on the scenario.\n",
        "\n",
        "STRICT INSTRUCTIONS:\n",
        "- Do NOT invent fictional or imaginary responder types (e.g., \"Alien Division\", \"Monster Task Force\").\n",
        "- Do NOT generate commentary or explanations outside the JSON.\n",
        "- If unsure whether a responder is real or relevant, LEAVE IT OUT.\n",
        "- Output must be valid JSON only. No markdown, no code blocks.\n",
        "\"\"\"\n",
        "\n",
        "# call the model\n",
        "response = client.chat.completions.create(\n",
        "    model=\"nvidia/llama-3.1-nemotron-ultra-253b-v1\",\n",
        "    messages=[\n",
        "        {\"role\": \"system\", \"content\": system_msg},\n",
        "        {\"role\": \"user\", \"content\": threat_input}\n",
        "    ],\n",
        "    temperature=0.3\n",
        ")\n",
        "\n",
        "# handle model output and strip code block formatting\n",
        "output = response.choices[0].message.content\n",
        "print(\"Raw Output:\\n\", output)\n",
        "\n",
        "# clean up possible json code block wrappers\n",
        "clean_output = output.strip().removeprefix(\"```json\").removesuffix(\"```\").strip()\n",
        "\n",
        "# attempt to parse JSON\n",
        "try:\n",
        "    result = json.loads(clean_output)\n",
        "    print(\"\\n Parsed JSON Output:\\n\", json.dumps(result, indent=2))\n",
        "except json.JSONDecodeError as e:\n",
        "    print(\" JSON parsing failed:\", e)\n",
        "    result = None\n"
      ]
    },
    {
      "cell_type": "markdown",
      "metadata": {
        "id": "AR1vljfYCyER"
      },
      "source": [
        "# New Section"
      ]
    },
    {
      "cell_type": "code",
      "execution_count": null,
      "metadata": {
        "id": "S1ATHFMv-5tQ"
      },
      "outputs": [],
      "source": [
        "# simulated responder endpoints\n",
        "default_url = \"https://httpbin.org/post\"\n",
        "responder_urls = {\n",
        "    \"Fire\": default_url,\n",
        "    \"EMS\": default_url,\n",
        "    \"Police\": default_url,\n",
        "    \"Animal Control\": default_url,\n",
        "    \"Local Security\": default_url,\n",
        "    \"Event Staff\": default_url,\n",
        "    \"Event Manager\": default_url,\n",
        "    \"Janitor\": default_url,\n",
        "    \"Military\": default_url,\n",
        "    \"Public Works\": default_url,\n",
        "    \"Utility Crews\": default_url\n",
        "}\n",
        "\n",
        "# dispatcher function\n",
        "def dispatch_to_responders(result):\n",
        "    print(\"\\n Dispatching alerts to responders...\\n\")\n",
        "\n",
        "    if not result or \"responders\" not in result:\n",
        "        print(\" No valid 'responders' field in result.\")\n",
        "        return\n",
        "\n",
        "    for responder in result[\"responders\"]:\n",
        "        url = responder_urls.get(responder, default_url)\n",
        "\n",
        "        payload = {\n",
        "            \"responder\": responder,\n",
        "            \"message\": result.get(\"message\", \"No message provided.\"),\n",
        "            \"priority\": result.get(\"priority\", \"Unknown\"),\n",
        "            \"actions\": result.get(\"actions\", [])\n",
        "        }\n",
        "\n",
        "        print(f\"\\n Sending alert to {responder} → {url}\")\n",
        "        print(\"Payload:\\n\", json.dumps(payload, indent=2))\n",
        "\n",
        "        try:\n",
        "            response = requests.post(url, json=payload)\n",
        "            if response.status_code == 200:\n",
        "                print(f\" Successfully sent to {responder}\")\n",
        "            else:\n",
        "                print(f\" Failed to send to {responder} – Status code: {response.status_code}\")\n",
        "        except Exception as e:\n",
        "            print(f\" Error while sending to {responder}: {e}\")\n"
      ]
    },
    {
      "cell_type": "code",
      "execution_count": null,
      "metadata": {
        "id": "Bz4qbgY6_CER"
      },
      "outputs": [],
      "source": [
        "if result:\n",
        "    dispatch_to_responders(result)"
      ]
    }
  ],
  "metadata": {
    "colab": {
      "provenance": []
    },
    "kernelspec": {
      "display_name": "Python 3",
      "name": "python3"
    },
    "language_info": {
      "name": "python"
    }
  },
  "nbformat": 4,
  "nbformat_minor": 0
}
